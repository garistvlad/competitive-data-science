{
 "cells": [
  {
   "cell_type": "markdown",
   "metadata": {},
   "source": [
    "# ⚡️🏁 Quick start - тестируем простое решение"
   ]
  },
  {
   "cell_type": "code",
   "execution_count": 35,
   "metadata": {
    "ExecuteTime": {
     "end_time": "2022-09-23T12:30:27.726118Z",
     "start_time": "2022-09-23T12:30:24.605676Z"
    },
    "tags": []
   },
   "outputs": [],
   "source": [
    "import numpy as np\n",
    "import pandas as pd\n",
    "\n",
    "import seaborn as sns\n",
    "import matplotlib.pyplot as plt"
   ]
  },
  {
   "cell_type": "code",
   "execution_count": 40,
   "metadata": {},
   "outputs": [
    {
     "data": {
      "text/html": [
       "<svg  width=\"495\" height=\"55\"><rect x=\"0\" y=\"0\" width=\"55\" height=\"55\" style=\"fill:#fbb4ae;stroke-width:2;stroke:rgb(255,255,255)\"/><rect x=\"55\" y=\"0\" width=\"55\" height=\"55\" style=\"fill:#b3cde3;stroke-width:2;stroke:rgb(255,255,255)\"/><rect x=\"110\" y=\"0\" width=\"55\" height=\"55\" style=\"fill:#ccebc5;stroke-width:2;stroke:rgb(255,255,255)\"/><rect x=\"165\" y=\"0\" width=\"55\" height=\"55\" style=\"fill:#decbe4;stroke-width:2;stroke:rgb(255,255,255)\"/><rect x=\"220\" y=\"0\" width=\"55\" height=\"55\" style=\"fill:#fed9a6;stroke-width:2;stroke:rgb(255,255,255)\"/><rect x=\"275\" y=\"0\" width=\"55\" height=\"55\" style=\"fill:#ffffcc;stroke-width:2;stroke:rgb(255,255,255)\"/><rect x=\"330\" y=\"0\" width=\"55\" height=\"55\" style=\"fill:#e5d8bd;stroke-width:2;stroke:rgb(255,255,255)\"/><rect x=\"385\" y=\"0\" width=\"55\" height=\"55\" style=\"fill:#fddaec;stroke-width:2;stroke:rgb(255,255,255)\"/><rect x=\"440\" y=\"0\" width=\"55\" height=\"55\" style=\"fill:#f2f2f2;stroke-width:2;stroke:rgb(255,255,255)\"/></svg>"
      ],
      "text/plain": [
       "[(0.984313725490196, 0.7058823529411765, 0.6823529411764706),\n",
       " (0.7019607843137254, 0.803921568627451, 0.8901960784313725),\n",
       " (0.8, 0.9215686274509803, 0.7725490196078432),\n",
       " (0.8705882352941177, 0.796078431372549, 0.8941176470588236),\n",
       " (0.996078431372549, 0.8509803921568627, 0.6509803921568628),\n",
       " (1.0, 1.0, 0.8),\n",
       " (0.8980392156862745, 0.8470588235294118, 0.7411764705882353),\n",
       " (0.9921568627450981, 0.8549019607843137, 0.9254901960784314),\n",
       " (0.9490196078431372, 0.9490196078431372, 0.9490196078431372)]"
      ]
     },
     "execution_count": 40,
     "metadata": {},
     "output_type": "execute_result"
    }
   ],
   "source": [
    "COLOR_PALETTE = sns.color_palette(\"Pastel1\")\n",
    "sns.set_palette(COLOR_PALETTE)\n",
    "COLOR_PALETTE"
   ]
  },
  {
   "cell_type": "markdown",
   "metadata": {},
   "source": [
    "## Анализируем данные о машинах car_info\n",
    "\n",
    "🚗 Главное описание машин с информацией о поломках для обучения / прогноза - `car_train.csv` / `car_test.csv`.\n",
    "\n",
    "**Пояснение столбцов:**\n",
    "- `car_id` - идентификатор машины\n",
    "- `model` / `car_type` / `fuel_type`- марка, класс и тип топлива машины\n",
    "- `car_rating` / `riders` - общий рейтинг и общее число поездок к концу 2021-го кода.\n",
    "- `year_to_start` / `year_to_work` - годы выпуска машины и начала работы в автопарке \n",
    "- `target_reg` - количество дней до поломки.\n",
    "- `target_class` - класс поломки (всего 9 видов)"
   ]
  },
  {
   "cell_type": "code",
   "execution_count": 7,
   "metadata": {},
   "outputs": [],
   "source": [
    "# datasets with CSV files:\n",
    "car_train_filepath = \"../data/car_train.csv\"\n",
    "car_test_filepath = \"../data/car_test.csv\"\n",
    "driver_info_filepath = \"../data/driver_info.csv\"\n",
    "fix_info_filepath = \"../data/fix_info.csv\"\n",
    "rides_info_filepath = \"../data/rides_info.csv\""
   ]
  },
  {
   "cell_type": "code",
   "execution_count": 9,
   "metadata": {
    "ExecuteTime": {
     "end_time": "2022-09-23T12:30:31.614036Z",
     "start_time": "2022-09-23T12:30:27.758714Z"
    },
    "tags": []
   },
   "outputs": [
    {
     "name": "stdout",
     "output_type": "stream",
     "text": [
      "Shape (2337, 10)\n"
     ]
    },
    {
     "data": {
      "text/html": [
       "<div>\n",
       "<style scoped>\n",
       "    .dataframe tbody tr th:only-of-type {\n",
       "        vertical-align: middle;\n",
       "    }\n",
       "\n",
       "    .dataframe tbody tr th {\n",
       "        vertical-align: top;\n",
       "    }\n",
       "\n",
       "    .dataframe thead th {\n",
       "        text-align: right;\n",
       "    }\n",
       "</style>\n",
       "<table border=\"1\" class=\"dataframe\">\n",
       "  <thead>\n",
       "    <tr style=\"text-align: right;\">\n",
       "      <th></th>\n",
       "      <th>car_id</th>\n",
       "      <th>model</th>\n",
       "      <th>car_type</th>\n",
       "      <th>fuel_type</th>\n",
       "      <th>car_rating</th>\n",
       "      <th>year_to_start</th>\n",
       "      <th>riders</th>\n",
       "      <th>year_to_work</th>\n",
       "      <th>target_reg</th>\n",
       "      <th>target_class</th>\n",
       "    </tr>\n",
       "  </thead>\n",
       "  <tbody>\n",
       "    <tr>\n",
       "      <th>1404</th>\n",
       "      <td>f-1958284u</td>\n",
       "      <td>VW Polo VI</td>\n",
       "      <td>economy</td>\n",
       "      <td>petrol</td>\n",
       "      <td>4.96</td>\n",
       "      <td>2011</td>\n",
       "      <td>5779</td>\n",
       "      <td>2020</td>\n",
       "      <td>6438.71</td>\n",
       "      <td>another_bug</td>\n",
       "    </tr>\n",
       "    <tr>\n",
       "      <th>1547</th>\n",
       "      <td>g-1495042h</td>\n",
       "      <td>Smart Coupe</td>\n",
       "      <td>economy</td>\n",
       "      <td>petrol</td>\n",
       "      <td>3.98</td>\n",
       "      <td>2017</td>\n",
       "      <td>122669</td>\n",
       "      <td>2018</td>\n",
       "      <td>2228.86</td>\n",
       "      <td>another_bug</td>\n",
       "    </tr>\n",
       "    <tr>\n",
       "      <th>2263</th>\n",
       "      <td>b-1681467p</td>\n",
       "      <td>Kia Sportage</td>\n",
       "      <td>standart</td>\n",
       "      <td>petrol</td>\n",
       "      <td>4.38</td>\n",
       "      <td>2013</td>\n",
       "      <td>43426</td>\n",
       "      <td>2017</td>\n",
       "      <td>1689.59</td>\n",
       "      <td>break_bug</td>\n",
       "    </tr>\n",
       "  </tbody>\n",
       "</table>\n",
       "</div>"
      ],
      "text/plain": [
       "          car_id         model  car_type fuel_type  car_rating  year_to_start  \\\n",
       "1404  f-1958284u    VW Polo VI   economy    petrol        4.96           2011   \n",
       "1547  g-1495042h   Smart Coupe   economy    petrol        3.98           2017   \n",
       "2263  b-1681467p  Kia Sportage  standart    petrol        4.38           2013   \n",
       "\n",
       "      riders  year_to_work  target_reg target_class  \n",
       "1404    5779          2020     6438.71  another_bug  \n",
       "1547  122669          2018     2228.86  another_bug  \n",
       "2263   43426          2017     1689.59    break_bug  "
      ]
     },
     "execution_count": 9,
     "metadata": {},
     "output_type": "execute_result"
    }
   ],
   "source": [
    "# Train\n",
    "df_train = pd.read_csv(car_train_filepath)\n",
    "print(\"Shape\", df_train.shape)\n",
    "df_train.sample(3)"
   ]
  },
  {
   "cell_type": "code",
   "execution_count": 54,
   "metadata": {},
   "outputs": [
    {
     "data": {
      "text/html": [
       "<div>\n",
       "<style scoped>\n",
       "    .dataframe tbody tr th:only-of-type {\n",
       "        vertical-align: middle;\n",
       "    }\n",
       "\n",
       "    .dataframe tbody tr th {\n",
       "        vertical-align: top;\n",
       "    }\n",
       "\n",
       "    .dataframe thead th {\n",
       "        text-align: right;\n",
       "    }\n",
       "</style>\n",
       "<table border=\"1\" class=\"dataframe\">\n",
       "  <thead>\n",
       "    <tr style=\"text-align: right;\">\n",
       "      <th></th>\n",
       "      <th>car_id</th>\n",
       "      <th>model</th>\n",
       "      <th>car_type</th>\n",
       "      <th>fuel_type</th>\n",
       "      <th>car_rating</th>\n",
       "      <th>year_to_start</th>\n",
       "      <th>riders</th>\n",
       "      <th>year_to_work</th>\n",
       "    </tr>\n",
       "  </thead>\n",
       "  <tbody>\n",
       "    <tr>\n",
       "      <th>1605</th>\n",
       "      <td>m97152459x</td>\n",
       "      <td>Smart ForFour</td>\n",
       "      <td>economy</td>\n",
       "      <td>petrol</td>\n",
       "      <td>3.66</td>\n",
       "      <td>2014</td>\n",
       "      <td>64041</td>\n",
       "      <td>2016</td>\n",
       "    </tr>\n",
       "    <tr>\n",
       "      <th>1317</th>\n",
       "      <td>W20898223q</td>\n",
       "      <td>VW Polo</td>\n",
       "      <td>economy</td>\n",
       "      <td>petrol</td>\n",
       "      <td>3.30</td>\n",
       "      <td>2011</td>\n",
       "      <td>2708</td>\n",
       "      <td>2014</td>\n",
       "    </tr>\n",
       "    <tr>\n",
       "      <th>385</th>\n",
       "      <td>p-1032774f</td>\n",
       "      <td>Nissan Qashqai</td>\n",
       "      <td>standart</td>\n",
       "      <td>petrol</td>\n",
       "      <td>4.52</td>\n",
       "      <td>2014</td>\n",
       "      <td>57496</td>\n",
       "      <td>2021</td>\n",
       "    </tr>\n",
       "  </tbody>\n",
       "</table>\n",
       "</div>"
      ],
      "text/plain": [
       "          car_id           model  car_type fuel_type  car_rating  \\\n",
       "1605  m97152459x   Smart ForFour   economy    petrol        3.66   \n",
       "1317  W20898223q         VW Polo   economy    petrol        3.30   \n",
       "385   p-1032774f  Nissan Qashqai  standart    petrol        4.52   \n",
       "\n",
       "      year_to_start  riders  year_to_work  \n",
       "1605           2014   64041          2016  \n",
       "1317           2011    2708          2014  \n",
       "385            2014   57496          2021  "
      ]
     },
     "execution_count": 54,
     "metadata": {},
     "output_type": "execute_result"
    }
   ],
   "source": [
    "# Test\n",
    "df_test = pd.read_csv(car_test_filepath)\n",
    "df_test.sample(3)"
   ]
  },
  {
   "cell_type": "code",
   "execution_count": 22,
   "metadata": {},
   "outputs": [],
   "source": [
    "numerical_features = [\"car_rating\", \"year_to_start\", \"riders\", \"year_to_work\"]\n",
    "cat_features = [\"model\", \"car_type\", \"fuel_type\"]\n",
    "target_cols = [\"target_reg\", \"target_class\"]"
   ]
  },
  {
   "cell_type": "code",
   "execution_count": 41,
   "metadata": {
    "tags": []
   },
   "outputs": [
    {
     "data": {
      "image/png": "[encoded data removed]",
      "text/plain": [
       "<Figure size 1800x400 with 4 Axes>"
      ]
     },
     "metadata": {},
     "output_type": "display_data"
    }
   ],
   "source": [
    "fig, ax = plt.subplots(1, 4, figsize=(18, 4))\n",
    "for i, col in enumerate(numerical_features):\n",
    "    ax_i = np.ravel(ax)[i]\n",
    "    sns.histplot(df_train[col], ax=ax_i)\n",
    "    ax_i.set_title(col)"
   ]
  },
  {
   "cell_type": "markdown",
   "metadata": {},
   "source": [
    "## Классифицируем признаки на типы"
   ]
  },
  {
   "cell_type": "code",
   "execution_count": 43,
   "metadata": {},
   "outputs": [
    {
     "name": "stdout",
     "output_type": "stream",
     "text": [
      "Numerical: ['car_rating', 'year_to_start', 'riders', 'year_to_work']\n",
      "Categorical: ['model', 'car_type', 'fuel_type']\n",
      "Target Columns: ['target_reg', 'target_class']\n"
     ]
    }
   ],
   "source": [
    "print(\"Numerical:\", numerical_features)\n",
    "print(\"Categorical:\", cat_features)\n",
    "print(\"Target Columns:\", target_cols)"
   ]
  },
  {
   "cell_type": "markdown",
   "metadata": {},
   "source": [
    "## Обучаем Catboost и делаем прогноз на тест"
   ]
  },
  {
   "cell_type": "code",
   "execution_count": 44,
   "metadata": {},
   "outputs": [],
   "source": [
    "from catboost import CatBoostClassifier\n",
    "from sklearn.model_selection import train_test_split\n",
    "from sklearn.metrics import accuracy_score #, mean_squared_error"
   ]
  },
  {
   "cell_type": "code",
   "execution_count": 52,
   "metadata": {},
   "outputs": [
    {
     "name": "stdout",
     "output_type": "stream",
     "text": [
      "0:\tlearn: 2.1931409\ttest: 2.1965565\tbest: 2.1965565 (0)\ttotal: 5.06ms\tremaining: 12.6s\n",
      "100:\tlearn: 2.0957334\ttest: 2.1881040\tbest: 2.1876464 (74)\ttotal: 271ms\tremaining: 6.45s\n",
      "200:\tlearn: 2.0238823\ttest: 2.1918342\tbest: 2.1874710 (105)\ttotal: 524ms\tremaining: 5.99s\n",
      "300:\tlearn: 1.9566830\ttest: 2.2064582\tbest: 2.1874710 (105)\ttotal: 784ms\tremaining: 5.73s\n",
      "Stopped by overfitting detector  (250 iterations wait)\n",
      "\n",
      "bestTest = 2.187471025\n",
      "bestIteration = 105\n",
      "\n",
      "Shrink model to first 106 iterations.\n",
      "\n",
      " Accuracy: 0.11324786324786325\n"
     ]
    }
   ],
   "source": [
    "X = df_train[numerical_features + cat_features]\n",
    "y = df_train[target_cols[1]]\n",
    "\n",
    "X_train, X_test, y_train, y_test = train_test_split(\n",
    "    X, y,\n",
    "    test_size=0.2,\n",
    "    random_state=42\n",
    ")\n",
    "\n",
    "clf = CatBoostClassifier(\n",
    "    iterations=2_500,\n",
    "    learning_rate=0.05,\n",
    "    depth=4,\n",
    "    colsample_bylevel=0.5,\n",
    "    cat_features=cat_features\n",
    ")\n",
    "\n",
    "\n",
    "clf.fit(\n",
    "    X_train,\n",
    "    y_train, \n",
    "    eval_set=(X_test, y_test),\n",
    "    early_stopping_rounds=250,\n",
    "    verbose=100,\n",
    "    plot=False\n",
    ")\n",
    "\n",
    "# инференс модели\n",
    "y_pred = clf.predict(X_test)\n",
    "print(f'\\n Accuracy: {accuracy_score(y_test, y_pred)}')"
   ]
  },
  {
   "cell_type": "code",
   "execution_count": 56,
   "metadata": {},
   "outputs": [
    {
     "name": "stdout",
     "output_type": "stream",
     "text": [
      "CSV file saved!\n"
     ]
    }
   ],
   "source": [
    "df_test['target_class'] = clf.predict(df_test[numerical_features + cat_features]).ravel()\n",
    "df_test[['car_id', 'target_class']].to_csv('../submissions/simple_baseline_v1.csv', index=False)\n",
    "print('CSV file saved!')"
   ]
  },
  {
   "cell_type": "markdown",
   "metadata": {},
   "source": [
    "## Добавим информацию про поездки из rides_info"
   ]
  },
  {
   "cell_type": "markdown",
   "metadata": {},
   "source": [
    "\n",
    "🏇 Информация про поездки - `rides_info.csv`.  **Пояснение столбцов:**\n",
    "- `user_id` / `car_id` / `ride_id` - идентификаторы водителя, машины, поездки соответственно\n",
    "- `ride_date` / `rating` - дата поездки и рейтинг, поставленный водителем \n",
    "- `ride_duration` / `distance` / `ride_cost` -  длительность (время),  пройденное расстояние, стоимость поездки \n",
    "- `speed_avg` / `speed_max` - средняя и максимальная скорости поездки соответственно\n",
    "- `stop_times` / `refueling` - количество остановок (паузы) и флаг - была ли дозаправка.\n",
    "- `user_ride_quality` - оценка манеры вождения машины водителя, определенная скоринговой ML системой сервиса.\n",
    "- `deviation_normal` - общий показатель датчиков о состоянии машины, относительно эталонных показателей (нормы). \n"
   ]
  },
  {
   "cell_type": "code",
   "execution_count": 59,
   "metadata": {
    "tags": []
   },
   "outputs": [
    {
     "data": {
      "text/html": [
       "<div>\n",
       "<style scoped>\n",
       "    .dataframe tbody tr th:only-of-type {\n",
       "        vertical-align: middle;\n",
       "    }\n",
       "\n",
       "    .dataframe tbody tr th {\n",
       "        vertical-align: top;\n",
       "    }\n",
       "\n",
       "    .dataframe thead th {\n",
       "        text-align: right;\n",
       "    }\n",
       "</style>\n",
       "<table border=\"1\" class=\"dataframe\">\n",
       "  <thead>\n",
       "    <tr style=\"text-align: right;\">\n",
       "      <th></th>\n",
       "      <th>user_id</th>\n",
       "      <th>car_id</th>\n",
       "      <th>ride_id</th>\n",
       "      <th>ride_date</th>\n",
       "      <th>rating</th>\n",
       "      <th>ride_duration</th>\n",
       "      <th>ride_cost</th>\n",
       "      <th>speed_avg</th>\n",
       "      <th>speed_max</th>\n",
       "      <th>stop_times</th>\n",
       "      <th>distance</th>\n",
       "      <th>refueling</th>\n",
       "      <th>user_ride_quality</th>\n",
       "      <th>deviation_normal</th>\n",
       "    </tr>\n",
       "  </thead>\n",
       "  <tbody>\n",
       "    <tr>\n",
       "      <th>536886</th>\n",
       "      <td>B11191837J</td>\n",
       "      <td>l79825102V</td>\n",
       "      <td>L1S</td>\n",
       "      <td>2020-02-21</td>\n",
       "      <td>6.82</td>\n",
       "      <td>20</td>\n",
       "      <td>256</td>\n",
       "      <td>32</td>\n",
       "      <td>48.0</td>\n",
       "      <td>1</td>\n",
       "      <td>557.586601</td>\n",
       "      <td>0</td>\n",
       "      <td>3.789412</td>\n",
       "      <td>-1.657</td>\n",
       "    </tr>\n",
       "    <tr>\n",
       "      <th>617373</th>\n",
       "      <td>A43206298m</td>\n",
       "      <td>r19349335d</td>\n",
       "      <td>f1n</td>\n",
       "      <td>2020-01-12</td>\n",
       "      <td>5.64</td>\n",
       "      <td>28</td>\n",
       "      <td>246</td>\n",
       "      <td>27</td>\n",
       "      <td>NaN</td>\n",
       "      <td>2</td>\n",
       "      <td>623.761954</td>\n",
       "      <td>0</td>\n",
       "      <td>8.912278</td>\n",
       "      <td>6.172</td>\n",
       "    </tr>\n",
       "    <tr>\n",
       "      <th>302922</th>\n",
       "      <td>S47821730w</td>\n",
       "      <td>V-7306183J</td>\n",
       "      <td>R1A</td>\n",
       "      <td>2020-03-26</td>\n",
       "      <td>4.41</td>\n",
       "      <td>70</td>\n",
       "      <td>627</td>\n",
       "      <td>46</td>\n",
       "      <td>79.0</td>\n",
       "      <td>1</td>\n",
       "      <td>1332.503350</td>\n",
       "      <td>0</td>\n",
       "      <td>21.840912</td>\n",
       "      <td>1.347</td>\n",
       "    </tr>\n",
       "  </tbody>\n",
       "</table>\n",
       "</div>"
      ],
      "text/plain": [
       "           user_id      car_id ride_id   ride_date  rating  ride_duration  \\\n",
       "536886  B11191837J  l79825102V     L1S  2020-02-21    6.82             20   \n",
       "617373  A43206298m  r19349335d     f1n  2020-01-12    5.64             28   \n",
       "302922  S47821730w  V-7306183J     R1A  2020-03-26    4.41             70   \n",
       "\n",
       "        ride_cost  speed_avg  speed_max  stop_times     distance  refueling  \\\n",
       "536886        256         32       48.0           1   557.586601          0   \n",
       "617373        246         27        NaN           2   623.761954          0   \n",
       "302922        627         46       79.0           1  1332.503350          0   \n",
       "\n",
       "        user_ride_quality  deviation_normal  \n",
       "536886           3.789412            -1.657  \n",
       "617373           8.912278             6.172  \n",
       "302922          21.840912             1.347  "
      ]
     },
     "execution_count": 59,
     "metadata": {},
     "output_type": "execute_result"
    }
   ],
   "source": [
    "# Rides\n",
    "df_rides = pd.read_csv(rides_info_filepath)\n",
    "df_rides.sample(3)"
   ]
  },
  {
   "cell_type": "code",
   "execution_count": 61,
   "metadata": {},
   "outputs": [
    {
     "data": {
      "text/html": [
       "<div>\n",
       "<style scoped>\n",
       "    .dataframe tbody tr th:only-of-type {\n",
       "        vertical-align: middle;\n",
       "    }\n",
       "\n",
       "    .dataframe tbody tr th {\n",
       "        vertical-align: top;\n",
       "    }\n",
       "\n",
       "    .dataframe thead th {\n",
       "        text-align: right;\n",
       "    }\n",
       "</style>\n",
       "<table border=\"1\" class=\"dataframe\">\n",
       "  <thead>\n",
       "    <tr style=\"text-align: right;\">\n",
       "      <th></th>\n",
       "      <th>car_id</th>\n",
       "      <th>mean_rating</th>\n",
       "      <th>distance_sum</th>\n",
       "      <th>rating_min</th>\n",
       "      <th>speed_max</th>\n",
       "      <th>user_ride_quality_median</th>\n",
       "      <th>deviation_normal_count</th>\n",
       "      <th>user_uniq</th>\n",
       "    </tr>\n",
       "  </thead>\n",
       "  <tbody>\n",
       "    <tr>\n",
       "      <th>0</th>\n",
       "      <td>A-1049127W</td>\n",
       "      <td>4.255172</td>\n",
       "      <td>1.125753e+07</td>\n",
       "      <td>0.1</td>\n",
       "      <td>179.729652</td>\n",
       "      <td>-0.288229</td>\n",
       "      <td>174</td>\n",
       "      <td>172</td>\n",
       "    </tr>\n",
       "    <tr>\n",
       "      <th>1</th>\n",
       "      <td>A-1079539w</td>\n",
       "      <td>4.088046</td>\n",
       "      <td>1.912765e+07</td>\n",
       "      <td>0.1</td>\n",
       "      <td>184.505566</td>\n",
       "      <td>2.508746</td>\n",
       "      <td>174</td>\n",
       "      <td>173</td>\n",
       "    </tr>\n",
       "  </tbody>\n",
       "</table>\n",
       "</div>"
      ],
      "text/plain": [
       "       car_id  mean_rating  distance_sum  rating_min   speed_max  \\\n",
       "0  A-1049127W     4.255172  1.125753e+07         0.1  179.729652   \n",
       "1  A-1079539w     4.088046  1.912765e+07         0.1  184.505566   \n",
       "\n",
       "   user_ride_quality_median  deviation_normal_count  user_uniq  \n",
       "0                 -0.288229                     174        172  \n",
       "1                  2.508746                     174        173  "
      ]
     },
     "execution_count": 61,
     "metadata": {},
     "output_type": "execute_result"
    }
   ],
   "source": [
    "df_rides_agg = df_rides.groupby('car_id', as_index=False).agg(\n",
    "    mean_rating = ('rating', 'mean'),\n",
    "    distance_sum = ('distance', 'sum'),\n",
    "    rating_min = ('rating', 'min'),\n",
    "    speed_max = ('speed_max', 'max'),\n",
    "    user_ride_quality_median = ('user_ride_quality', 'median'), \n",
    "    deviation_normal_count = ('deviation_normal', 'count'),\n",
    "    user_uniq = ('user_id', lambda x: pd.Series(x).nunique())\n",
    ")\n",
    "\n",
    "\n",
    "df_rides_agg.head(2)"
   ]
  },
  {
   "cell_type": "code",
   "execution_count": 71,
   "metadata": {},
   "outputs": [],
   "source": [
    "def add_featues(df: pd.DataFrame, features: pd.DataFrame) -> pd.DataFrame:\n",
    "    if len(set(df.columns[1:]).intersection(features.columns)) > 0:\n",
    "        raise ValueError(\"There are common columns dataset in both datasets\")\n",
    "\n",
    "    return df.merge(features, on=\"car_id\", how=\"left\")\n",
    "\n",
    "\n",
    "df_train_extended = add_featues(df_train, features=df_rides_agg)\n",
    "df_test_extended = add_featues(df_test, features=df_rides_agg)"
   ]
  },
  {
   "cell_type": "markdown",
   "metadata": {},
   "source": [
    "# Снова обновляем типы фичей"
   ]
  },
  {
   "cell_type": "code",
   "execution_count": 80,
   "metadata": {},
   "outputs": [
    {
     "name": "stdout",
     "output_type": "stream",
     "text": [
      "Numerical: 11 ['car_rating', 'year_to_start', 'riders', 'year_to_work', 'mean_rating', 'distance_sum', 'rating_min', 'speed_max', 'user_ride_quality_median', 'deviation_normal_count', 'user_uniq']\n",
      "Categorical: 3 ['model', 'car_type', 'fuel_type']\n",
      "Targets ['target_reg', 'target_class']\n"
     ]
    }
   ],
   "source": [
    "newly_added_features = list(df_rides_agg.columns[1:])\n",
    "\n",
    "print('Numerical:', len(numerical_features + newly_added_features), numerical_features + newly_added_features)\n",
    "print('Categorical:', len(cat_features), cat_features)\n",
    "print('Targets', target_cols)"
   ]
  },
  {
   "cell_type": "markdown",
   "metadata": {},
   "source": [
    "# Обучаем Catboost на новых данных и делаем новый прогноз"
   ]
  },
  {
   "cell_type": "code",
   "execution_count": 83,
   "metadata": {},
   "outputs": [
    {
     "name": "stdout",
     "output_type": "stream",
     "text": [
      "0:\tlearn: 2.0398503\ttest: 2.0447750\tbest: 2.0447750 (0)\ttotal: 3.67ms\tremaining: 9.16s\n",
      "100:\tlearn: 0.5787403\ttest: 0.6349161\tbest: 0.6349161 (100)\ttotal: 281ms\tremaining: 6.68s\n",
      "200:\tlearn: 0.4645176\ttest: 0.5543995\tbest: 0.5543995 (200)\ttotal: 565ms\tremaining: 6.46s\n",
      "300:\tlearn: 0.4156750\ttest: 0.5365005\tbest: 0.5364922 (299)\ttotal: 863ms\tremaining: 6.3s\n",
      "400:\tlearn: 0.3801761\ttest: 0.5328513\tbest: 0.5321866 (394)\ttotal: 1.16s\tremaining: 6.07s\n",
      "500:\tlearn: 0.3521789\ttest: 0.5313711\tbest: 0.5311666 (466)\ttotal: 1.44s\tremaining: 5.76s\n",
      "600:\tlearn: 0.3291436\ttest: 0.5326446\tbest: 0.5309700 (504)\ttotal: 1.74s\tremaining: 5.49s\n",
      "700:\tlearn: 0.3081155\ttest: 0.5348512\tbest: 0.5309700 (504)\ttotal: 2.02s\tremaining: 5.19s\n",
      "Stopped by overfitting detector  (250 iterations wait)\n",
      "\n",
      "bestTest = 0.5309699599\n",
      "bestIteration = 504\n",
      "\n",
      "Shrink model to first 505 iterations.\n",
      "\n",
      " Accuracy: 0.7927350427350427\n"
     ]
    }
   ],
   "source": [
    "X = df_train_extended[numerical_features + newly_added_features + cat_features]\n",
    "y = df_train_extended['target_class']\n",
    "\n",
    "X_train, X_test, y_train, y_test = train_test_split(\n",
    "    X, y, test_size=0.2, random_state=42\n",
    ")\n",
    "\n",
    "clf = CatBoostClassifier(\n",
    "    iterations=2_500,\n",
    "    learning_rate=0.05,\n",
    "    depth=4,\n",
    "    colsample_bylevel=0.5,\n",
    "    cat_features=cat_features\n",
    ")\n",
    "\n",
    "clf.fit(\n",
    "    X_train,\n",
    "    y_train, \n",
    "    eval_set=(X_test, y_test),\n",
    "    early_stopping_rounds=250,\n",
    "    verbose=100,\n",
    "    plot=False\n",
    ")\n",
    "\n",
    "# инференс модели\n",
    "y_pred = clf.predict(X_test)\n",
    "print(f'\\n Accuracy: {accuracy_score(y_test, y_pred)}')"
   ]
  },
  {
   "cell_type": "code",
   "execution_count": 84,
   "metadata": {},
   "outputs": [
    {
     "data": {
      "text/html": [
       "<div>\n",
       "<style scoped>\n",
       "    .dataframe tbody tr th:only-of-type {\n",
       "        vertical-align: middle;\n",
       "    }\n",
       "\n",
       "    .dataframe tbody tr th {\n",
       "        vertical-align: top;\n",
       "    }\n",
       "\n",
       "    .dataframe thead th {\n",
       "        text-align: right;\n",
       "    }\n",
       "</style>\n",
       "<table border=\"1\" class=\"dataframe\">\n",
       "  <thead>\n",
       "    <tr style=\"text-align: right;\">\n",
       "      <th></th>\n",
       "      <th>Feature Id</th>\n",
       "      <th>Importances</th>\n",
       "    </tr>\n",
       "  </thead>\n",
       "  <tbody>\n",
       "    <tr>\n",
       "      <th>0</th>\n",
       "      <td>speed_max</td>\n",
       "      <td>40.296415</td>\n",
       "    </tr>\n",
       "    <tr>\n",
       "      <th>1</th>\n",
       "      <td>mean_rating</td>\n",
       "      <td>33.363709</td>\n",
       "    </tr>\n",
       "    <tr>\n",
       "      <th>2</th>\n",
       "      <td>rating_min</td>\n",
       "      <td>12.689254</td>\n",
       "    </tr>\n",
       "    <tr>\n",
       "      <th>3</th>\n",
       "      <td>user_uniq</td>\n",
       "      <td>3.028377</td>\n",
       "    </tr>\n",
       "    <tr>\n",
       "      <th>4</th>\n",
       "      <td>model</td>\n",
       "      <td>2.874279</td>\n",
       "    </tr>\n",
       "    <tr>\n",
       "      <th>5</th>\n",
       "      <td>car_type</td>\n",
       "      <td>2.204932</td>\n",
       "    </tr>\n",
       "    <tr>\n",
       "      <th>6</th>\n",
       "      <td>user_ride_quality_median</td>\n",
       "      <td>1.415315</td>\n",
       "    </tr>\n",
       "    <tr>\n",
       "      <th>7</th>\n",
       "      <td>riders</td>\n",
       "      <td>1.096280</td>\n",
       "    </tr>\n",
       "    <tr>\n",
       "      <th>8</th>\n",
       "      <td>car_rating</td>\n",
       "      <td>0.998480</td>\n",
       "    </tr>\n",
       "    <tr>\n",
       "      <th>9</th>\n",
       "      <td>distance_sum</td>\n",
       "      <td>0.954943</td>\n",
       "    </tr>\n",
       "    <tr>\n",
       "      <th>10</th>\n",
       "      <td>year_to_work</td>\n",
       "      <td>0.789968</td>\n",
       "    </tr>\n",
       "    <tr>\n",
       "      <th>11</th>\n",
       "      <td>year_to_start</td>\n",
       "      <td>0.254873</td>\n",
       "    </tr>\n",
       "    <tr>\n",
       "      <th>12</th>\n",
       "      <td>fuel_type</td>\n",
       "      <td>0.033175</td>\n",
       "    </tr>\n",
       "    <tr>\n",
       "      <th>13</th>\n",
       "      <td>deviation_normal_count</td>\n",
       "      <td>0.000000</td>\n",
       "    </tr>\n",
       "  </tbody>\n",
       "</table>\n",
       "</div>"
      ],
      "text/plain": [
       "                  Feature Id  Importances\n",
       "0                  speed_max    40.296415\n",
       "1                mean_rating    33.363709\n",
       "2                 rating_min    12.689254\n",
       "3                  user_uniq     3.028377\n",
       "4                      model     2.874279\n",
       "5                   car_type     2.204932\n",
       "6   user_ride_quality_median     1.415315\n",
       "7                     riders     1.096280\n",
       "8                 car_rating     0.998480\n",
       "9               distance_sum     0.954943\n",
       "10              year_to_work     0.789968\n",
       "11             year_to_start     0.254873\n",
       "12                 fuel_type     0.033175\n",
       "13    deviation_normal_count     0.000000"
      ]
     },
     "execution_count": 84,
     "metadata": {},
     "output_type": "execute_result"
    }
   ],
   "source": [
    "fi = clf.get_feature_importance(prettified=True)\n",
    "fi"
   ]
  },
  {
   "cell_type": "code",
   "execution_count": 86,
   "metadata": {
    "tags": []
   },
   "outputs": [
    {
     "name": "stdout",
     "output_type": "stream",
     "text": [
      "CSV file saved!\n"
     ]
    }
   ],
   "source": [
    "df_test_extended['target_class'] = clf \\\n",
    "    .predict(df_test_extended[numerical_features + newly_added_features + cat_features]) \\\n",
    "    .ravel()\n",
    "\n",
    "df_test_extended[['car_id', 'target_class']] \\\n",
    "    .to_csv('../submissions/simple_baseline_v2.csv', index=False)\n",
    "\n",
    "print('CSV file saved!')"
   ]
  },
  {
   "cell_type": "markdown",
   "metadata": {},
   "source": [
    "# Что дальше? Зашли решение на Kaggle\n",
    "\n",
    "- Нажимаем `Save Version`\n",
    "- Проверяем, что в `Advanced Settings` выбрано - всегда сохранять результаты ноутбука.\n",
    "- Тип сохранения `Save & Run All (Commit)`\n",
    "- Жмем окончательно кнопку `Save`"
   ]
  },
  {
   "cell_type": "markdown",
   "metadata": {},
   "source": [
    "**Score: 0.80345**"
   ]
  }
 ],
 "metadata": {
  "finalized": {
   "timestamp": 1661552636568,
   "trusted": true
  },
  "kernelspec": {
   "display_name": "Python 3 (ipykernel)",
   "language": "python",
   "name": "python3"
  },
  "language_info": {
   "codemirror_mode": {
    "name": "ipython",
    "version": 3
   },
   "file_extension": ".py",
   "mimetype": "text/x-python",
   "name": "python",
   "nbconvert_exporter": "python",
   "pygments_lexer": "ipython3",
   "version": "3.11.5"
  },
  "toc": {
   "base_numbering": 1,
   "nav_menu": {},
   "number_sections": true,
   "sideBar": true,
   "skip_h1_title": false,
   "title_cell": "Table of Contents",
   "title_sidebar": "Contents",
   "toc_cell": false,
   "toc_position": {},
   "toc_section_display": true,
   "toc_window_display": false
  }
 },
 "nbformat": 4,
 "nbformat_minor": 4
}
